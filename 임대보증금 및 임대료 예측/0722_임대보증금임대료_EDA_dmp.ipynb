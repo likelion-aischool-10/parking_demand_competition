{
 "cells": [
  {
   "cell_type": "code",
   "execution_count": null,
   "metadata": {},
   "outputs": [],
   "source": [
    "# 필요한 feature만 추출\n",
    "area_df = train[['단지코드','공급유형_lb', '전용면적', '전용면적별세대수', '자격유형_lb', '임대보증금', '임대료']]\n",
    "\n",
    "# 단지코드도 수치화 cf. cat.codes 때문인지 아래 셀에서 area_df.diff()가 작동안돼서 제거\n",
    "# area_df['단지코드'] =area_df['단지코드'].astype(\"category\") # cat.codes를 사용하려면 category로 dtype 변경 필수\n",
    "# area_df['단지코드_lb'] = area_df['단지코드'].cat.codes\n",
    "# area_df = area_df[['단지코드_lb', '공급유형_lb', '전용면적', '전용면적별세대수', '자격유형_lb', '임대보증금', '임대료']]\n",
    "area_df"
   ]
  },
  {
   "cell_type": "code",
   "execution_count": null,
   "metadata": {},
   "outputs": [],
   "source": [
    "# 다른 feature 다 같은데 전용면적별세대수만 다른 데이터\n",
    "diff_area = area_df.drop(\"단지코드\",axis=1).diff()\n",
    "diff_area"
   ]
  },
  {
   "cell_type": "code",
   "execution_count": null,
   "metadata": {},
   "outputs": [],
   "source": [
    "diff_area_tmp = diff_area[(diff_area['전용면적']==0) ] # & (area_df['공급유형_lb']==0)\n",
    "diff_area_tmp"
   ]
  },
  {
   "cell_type": "code",
   "execution_count": null,
   "metadata": {},
   "outputs": [],
   "source": []
  },
  {
   "cell_type": "code",
   "execution_count": null,
   "metadata": {},
   "outputs": [],
   "source": []
  }
 ],
 "metadata": {
  "kernelspec": {
   "display_name": "Python 3",
   "language": "python",
   "name": "python3"
  },
  "language_info": {
   "codemirror_mode": {
    "name": "ipython",
    "version": 3
   },
   "file_extension": ".py",
   "mimetype": "text/x-python",
   "name": "python",
   "nbconvert_exporter": "python",
   "pygments_lexer": "ipython3",
   "version": "3.8.5"
  }
 },
 "nbformat": 4,
 "nbformat_minor": 4
}
