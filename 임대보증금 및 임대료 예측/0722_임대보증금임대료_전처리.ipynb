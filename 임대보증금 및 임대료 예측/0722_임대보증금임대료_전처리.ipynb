{
 "cells": [
  {
   "cell_type": "code",
   "execution_count": 1,
   "metadata": {},
   "outputs": [],
   "source": [
    "import pandas as pd\n",
    "import os\n",
    "import seaborn as sns\n",
    "import matplotlib.pyplot as plt\n",
    "from matplotlib import rc, rcParams\n",
    "import warnings\n",
    "\n",
    "warnings.filterwarnings(action='ignore')\n",
    "rc('font',family='AppleGothic')\n",
    "rcParams['axes.unicode_minus'] = False"
   ]
  },
  {
   "cell_type": "code",
   "execution_count": 2,
   "metadata": {},
   "outputs": [
    {
     "data": {
      "text/plain": [
       "((2952, 62), (2896, 62), (1008, 61))"
      ]
     },
     "execution_count": 2,
     "metadata": {},
     "output_type": "execute_result"
    }
   ],
   "source": [
    "path = './data/'\n",
    "\n",
    "train = pd.read_csv(path+\"train_preprocessed.csv\")\n",
    "train_errx = pd.read_csv(path+\"train_errx_preprocessed.csv\")\n",
    "test = pd.read_csv(path+\"test_preprocessed.csv\")\n",
    "sub = pd.read_csv(path + 'sample_submission.csv')\n",
    "\n",
    "train.shape, train_errx.shape, test.shape"
   ]
  },
  {
   "cell_type": "markdown",
   "metadata": {},
   "source": [
    "## train, test 데이터 세트 합치기"
   ]
  },
  {
   "cell_type": "code",
   "execution_count": 3,
   "metadata": {},
   "outputs": [
    {
     "name": "stdout",
     "output_type": "stream",
     "text": [
      "(3960, 61)\n",
      "단지코드          0\n",
      "총세대수          0\n",
      "임대건물구분        0\n",
      "지역            0\n",
      "공급유형          0\n",
      "전용면적          0\n",
      "전용면적별세대수      0\n",
      "공가수           0\n",
      "자격유형          0\n",
      "임대보증금       767\n",
      "임대료         776\n",
      "지하철         249\n",
      "버스정류장         0\n",
      "dtype: int64\n"
     ]
    },
    {
     "data": {
      "text/html": [
       "<div>\n",
       "<style scoped>\n",
       "    .dataframe tbody tr th:only-of-type {\n",
       "        vertical-align: middle;\n",
       "    }\n",
       "\n",
       "    .dataframe tbody tr th {\n",
       "        vertical-align: top;\n",
       "    }\n",
       "\n",
       "    .dataframe thead th {\n",
       "        text-align: right;\n",
       "    }\n",
       "</style>\n",
       "<table border=\"1\" class=\"dataframe\">\n",
       "  <thead>\n",
       "    <tr style=\"text-align: right;\">\n",
       "      <th></th>\n",
       "      <th>단지코드</th>\n",
       "      <th>총세대수</th>\n",
       "      <th>임대건물구분</th>\n",
       "      <th>지역</th>\n",
       "      <th>공급유형</th>\n",
       "      <th>전용면적</th>\n",
       "      <th>전용면적별세대수</th>\n",
       "      <th>공가수</th>\n",
       "      <th>자격유형</th>\n",
       "      <th>임대보증금</th>\n",
       "      <th>임대료</th>\n",
       "      <th>지하철</th>\n",
       "      <th>버스정류장</th>\n",
       "    </tr>\n",
       "  </thead>\n",
       "  <tbody>\n",
       "    <tr>\n",
       "      <th>0</th>\n",
       "      <td>ERR04_2483</td>\n",
       "      <td>900</td>\n",
       "      <td>아파트</td>\n",
       "      <td>경상북도</td>\n",
       "      <td>국민임대</td>\n",
       "      <td>39.72</td>\n",
       "      <td>134</td>\n",
       "      <td>38.0</td>\n",
       "      <td>A</td>\n",
       "      <td>15667000.0</td>\n",
       "      <td>103680.0</td>\n",
       "      <td>0.0</td>\n",
       "      <td>3.0</td>\n",
       "    </tr>\n",
       "    <tr>\n",
       "      <th>1</th>\n",
       "      <td>ERR04_2483</td>\n",
       "      <td>900</td>\n",
       "      <td>아파트</td>\n",
       "      <td>경상북도</td>\n",
       "      <td>국민임대</td>\n",
       "      <td>39.72</td>\n",
       "      <td>15</td>\n",
       "      <td>38.0</td>\n",
       "      <td>A</td>\n",
       "      <td>15667000.0</td>\n",
       "      <td>103680.0</td>\n",
       "      <td>0.0</td>\n",
       "      <td>3.0</td>\n",
       "    </tr>\n",
       "    <tr>\n",
       "      <th>2</th>\n",
       "      <td>ERR04_2483</td>\n",
       "      <td>900</td>\n",
       "      <td>아파트</td>\n",
       "      <td>경상북도</td>\n",
       "      <td>국민임대</td>\n",
       "      <td>51.93</td>\n",
       "      <td>385</td>\n",
       "      <td>38.0</td>\n",
       "      <td>A</td>\n",
       "      <td>27304000.0</td>\n",
       "      <td>184330.0</td>\n",
       "      <td>0.0</td>\n",
       "      <td>3.0</td>\n",
       "    </tr>\n",
       "    <tr>\n",
       "      <th>3</th>\n",
       "      <td>ERR04_2483</td>\n",
       "      <td>900</td>\n",
       "      <td>아파트</td>\n",
       "      <td>경상북도</td>\n",
       "      <td>국민임대</td>\n",
       "      <td>51.93</td>\n",
       "      <td>15</td>\n",
       "      <td>38.0</td>\n",
       "      <td>A</td>\n",
       "      <td>27304000.0</td>\n",
       "      <td>184330.0</td>\n",
       "      <td>0.0</td>\n",
       "      <td>3.0</td>\n",
       "    </tr>\n",
       "    <tr>\n",
       "      <th>4</th>\n",
       "      <td>ERR04_2483</td>\n",
       "      <td>900</td>\n",
       "      <td>아파트</td>\n",
       "      <td>경상북도</td>\n",
       "      <td>국민임대</td>\n",
       "      <td>51.93</td>\n",
       "      <td>41</td>\n",
       "      <td>38.0</td>\n",
       "      <td>A</td>\n",
       "      <td>27304000.0</td>\n",
       "      <td>184330.0</td>\n",
       "      <td>0.0</td>\n",
       "      <td>3.0</td>\n",
       "    </tr>\n",
       "    <tr>\n",
       "      <th>5</th>\n",
       "      <td>ERR04_2483</td>\n",
       "      <td>900</td>\n",
       "      <td>아파트</td>\n",
       "      <td>경상북도</td>\n",
       "      <td>국민임대</td>\n",
       "      <td>51.95</td>\n",
       "      <td>89</td>\n",
       "      <td>38.0</td>\n",
       "      <td>A</td>\n",
       "      <td>27304000.0</td>\n",
       "      <td>184330.0</td>\n",
       "      <td>0.0</td>\n",
       "      <td>3.0</td>\n",
       "    </tr>\n",
       "    <tr>\n",
       "      <th>6</th>\n",
       "      <td>ERR04_2483</td>\n",
       "      <td>900</td>\n",
       "      <td>아파트</td>\n",
       "      <td>경상북도</td>\n",
       "      <td>국민임대</td>\n",
       "      <td>51.95</td>\n",
       "      <td>135</td>\n",
       "      <td>38.0</td>\n",
       "      <td>A</td>\n",
       "      <td>27304000.0</td>\n",
       "      <td>184330.0</td>\n",
       "      <td>0.0</td>\n",
       "      <td>3.0</td>\n",
       "    </tr>\n",
       "    <tr>\n",
       "      <th>7</th>\n",
       "      <td>ERR04_2483</td>\n",
       "      <td>900</td>\n",
       "      <td>아파트</td>\n",
       "      <td>경상북도</td>\n",
       "      <td>국민임대</td>\n",
       "      <td>59.88</td>\n",
       "      <td>86</td>\n",
       "      <td>38.0</td>\n",
       "      <td>A</td>\n",
       "      <td>30357000.0</td>\n",
       "      <td>214270.0</td>\n",
       "      <td>0.0</td>\n",
       "      <td>3.0</td>\n",
       "    </tr>\n",
       "  </tbody>\n",
       "</table>\n",
       "</div>"
      ],
      "text/plain": [
       "         단지코드  총세대수 임대건물구분    지역  공급유형   전용면적  전용면적별세대수   공가수 자격유형  \\\n",
       "0  ERR04_2483   900    아파트  경상북도  국민임대  39.72       134  38.0    A   \n",
       "1  ERR04_2483   900    아파트  경상북도  국민임대  39.72        15  38.0    A   \n",
       "2  ERR04_2483   900    아파트  경상북도  국민임대  51.93       385  38.0    A   \n",
       "3  ERR04_2483   900    아파트  경상북도  국민임대  51.93        15  38.0    A   \n",
       "4  ERR04_2483   900    아파트  경상북도  국민임대  51.93        41  38.0    A   \n",
       "5  ERR04_2483   900    아파트  경상북도  국민임대  51.95        89  38.0    A   \n",
       "6  ERR04_2483   900    아파트  경상북도  국민임대  51.95       135  38.0    A   \n",
       "7  ERR04_2483   900    아파트  경상북도  국민임대  59.88        86  38.0    A   \n",
       "\n",
       "        임대보증금       임대료  지하철  버스정류장  \n",
       "0  15667000.0  103680.0  0.0    3.0  \n",
       "1  15667000.0  103680.0  0.0    3.0  \n",
       "2  27304000.0  184330.0  0.0    3.0  \n",
       "3  27304000.0  184330.0  0.0    3.0  \n",
       "4  27304000.0  184330.0  0.0    3.0  \n",
       "5  27304000.0  184330.0  0.0    3.0  \n",
       "6  27304000.0  184330.0  0.0    3.0  \n",
       "7  30357000.0  214270.0  0.0    3.0  "
      ]
     },
     "execution_count": 3,
     "metadata": {},
     "output_type": "execute_result"
    }
   ],
   "source": [
    "all_df = pd.concat([train.drop(\"등록차량수\",axis=1), test])\n",
    "print(all_df.shape)\n",
    "print(all_df.iloc[:,:13].isnull().sum() )\n",
    "\n",
    "all_df.iloc[:,:13].head(8)"
   ]
  },
  {
   "cell_type": "code",
   "execution_count": 4,
   "metadata": {},
   "outputs": [
    {
     "name": "stdout",
     "output_type": "stream",
     "text": [
      "(3960, 61)\n",
      "(3184, 61) (776, 61)\n",
      "True\n"
     ]
    }
   ],
   "source": [
    "# 임대보증금과 임대료 결측치 없는 데이터셋을 train_new로\n",
    "train_new = all_df[(all_df['임대보증금'].notnull()) & (all_df['임대료'].notnull())]\n",
    "\n",
    "# 임대보증금과 임대료 결측치 하나라도 있는 데이터셋을 test_new로\n",
    "test_new = all_df[(all_df['임대보증금'].isnull())|(all_df['임대료'].isnull())]\n",
    "\n",
    "# 합쳐서 갯수가 맞아야함\n",
    "print(all_df.shape)\n",
    "print(train_new.shape, test_new.shape)\n",
    "print(all_df.shape[0] == train_new.shape[0]+test_new.shape[0])"
   ]
  },
  {
   "cell_type": "markdown",
   "metadata": {},
   "source": [
    "## 결측치 시각화"
   ]
  },
  {
   "cell_type": "code",
   "execution_count": 5,
   "metadata": {},
   "outputs": [
    {
     "data": {
      "text/plain": [
       "<AxesSubplot:>"
      ]
     },
     "execution_count": 5,
     "metadata": {},
     "output_type": "execute_result"
    },
    {
     "data": {
      "image/png": "[encoded data removed]",
      "text/plain": [
       "<Figure size 864x216 with 1 Axes>"
      ]
     },
     "metadata": {
      "needs_background": "light"
     },
     "output_type": "display_data"
    }
   ],
   "source": [
    "# train 셋에 임대료와 임대보증금에 대한 결측치가 없어야한다.\n",
    "plt.figure(figsize=(12,3))\n",
    "sns.heatmap(train_new.isnull(), cbar=False)"
   ]
  },
  {
   "cell_type": "code",
   "execution_count": 6,
   "metadata": {},
   "outputs": [
    {
     "data": {
      "text/plain": [
       "<AxesSubplot:>"
      ]
     },
     "execution_count": 6,
     "metadata": {},
     "output_type": "execute_result"
    },
    {
     "data": {
      "image/png": "[encoded data removed]",
      "text/plain": [
       "<Figure size 864x216 with 1 Axes>"
      ]
     },
     "metadata": {
      "needs_background": "light"
     },
     "output_type": "display_data"
    }
   ],
   "source": [
    "# test 셋에는 임대보증금과 임대료에 대해 결측치가 많다.\n",
    "plt.figure(figsize=(12,3))\n",
    "sns.heatmap(test_new.isnull(), cbar=False)"
   ]
  },
  {
   "cell_type": "markdown",
   "metadata": {},
   "source": [
    "## csv 파일로 저장"
   ]
  },
  {
   "cell_type": "code",
   "execution_count": 7,
   "metadata": {},
   "outputs": [
    {
     "data": {
      "text/plain": [
       "['train_new.csv', 'test_new.csv']"
      ]
     },
     "execution_count": 7,
     "metadata": {},
     "output_type": "execute_result"
    }
   ],
   "source": [
    "outpath = './data_임대보증금임대료/'\n",
    "\n",
    "train_new.to_csv(outpath + \"train_new.csv\", index=False)\n",
    "test_new.to_csv(outpath + 'test_new.csv', index=False)\n",
    "os.listdir(outpath)\n"
   ]
  },
  {
   "cell_type": "code",
   "execution_count": null,
   "metadata": {},
   "outputs": [],
   "source": []
  }
 ],
 "metadata": {
  "kernelspec": {
   "display_name": "Python 3",
   "language": "python",
   "name": "python3"
  },
  "language_info": {
   "codemirror_mode": {
    "name": "ipython",
    "version": 3
   },
   "file_extension": ".py",
   "mimetype": "text/x-python",
   "name": "python",
   "nbconvert_exporter": "python",
   "pygments_lexer": "ipython3",
   "version": "3.8.5"
  }
 },
 "nbformat": 4,
 "nbformat_minor": 4
}
