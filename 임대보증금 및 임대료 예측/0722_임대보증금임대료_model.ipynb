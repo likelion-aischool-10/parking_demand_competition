{
 "cells": [
  {
   "cell_type": "code",
   "execution_count": 1,
   "metadata": {},
   "outputs": [],
   "source": [
    "import pandas as pd"
   ]
  },
  {
   "cell_type": "code",
   "execution_count": 2,
   "metadata": {},
   "outputs": [
    {
     "data": {
      "text/plain": [
       "((3184, 61), (776, 61))"
      ]
     },
     "execution_count": 2,
     "metadata": {},
     "output_type": "execute_result"
    }
   ],
   "source": [
    "path = './data_임대보증금임대료/'\n",
    "\n",
    "train = pd.read_csv(path+'train_new.csv')\n",
    "test = pd.read_csv(path+'test_new.csv')\n",
    "\n",
    "train.shape, test.shape"
   ]
  },
  {
   "cell_type": "code",
   "execution_count": null,
   "metadata": {},
   "outputs": [],
   "source": [
    "from sklearn.linear_model import LinearRegression\n",
    "from sklearn.neighbors import KNeighborsRegressor\n",
    "from sklearn.tree import DecisionTreeRegressor\n",
    "from sklearn.ensemble import RandomForestRegressor\n",
    "\n",
    "from sklearn.preprocessing import StandardScaler, MinMaxScaler\n",
    "from sklearn.model_selection import cross_val_score\n",
    "\n",
    "sel = ['총세대수', '버스정류장', '단지내주차면수', '전용면적','임대보증금','임대료',\n",
    "      '지역_lb', , '공급유형_lb','자격유형_lb']\n",
    "\n",
    "\n",
    "\n",
    "\n",
    "X = train[sel]\n",
    "y = train[['등록차량수']]\n",
    "\n",
    "# 피처스케일링\n",
    "scaler = StandardScaler()\n",
    "X_nor = scaler.fit_transform(X)\n",
    "\n",
    "# 모델 _ohx : one-hot-encoding\n",
    "lr_oh = LinearRegression()\n",
    "knn_oh = KNeighborsRegressor()\n",
    "rf_oh = RandomForestRegressor()\n",
    "dt_oh = DecisionTreeRegressor()\n",
    "\n",
    "# 회귀는 교차검증\n",
    "lr_scores = cross_val_score(lr_oh, X_nor, y,scoring='neg_mean_absolute_error', cv=5) \n",
    "knn_scores = cross_val_score(knn_oh, X_nor, y,scoring='neg_mean_absolute_error', cv=5)\n",
    "rf_scores = cross_val_score(rf_oh, X_nor, y,scoring='neg_mean_absolute_error', cv=5)\n",
    "dt_scores = cross_val_score(dt_oh, X_nor, y,scoring='neg_mean_absolute_error', cv=5)\n",
    "\n",
    "lr_score = np.abs(lr_scores.mean())\n",
    "knn_score = np.abs(knn_scores.mean())\n",
    "rf_score = np.abs(rf_scores.mean())\n",
    "dt_score = np.abs(dt_scores.mean())\n",
    "\n",
    "print(\"LinearRegression : \", lr_score)\n",
    "print(\"KNeighborsRegressor : \", knn_score)\n",
    "print(\"RandomForestRegressor : \", rf_score)\n",
    "print(\"DecisionTreeRegressor : \", dt_score)\n",
    "\n",
    "score_std = [lr_score, knn_score, rf_score, dt_score ]\n",
    "print(score_std)"
   ]
  }
 ],
 "metadata": {
  "kernelspec": {
   "display_name": "Python 3",
   "language": "python",
   "name": "python3"
  },
  "language_info": {
   "codemirror_mode": {
    "name": "ipython",
    "version": 3
   },
   "file_extension": ".py",
   "mimetype": "text/x-python",
   "name": "python",
   "nbconvert_exporter": "python",
   "pygments_lexer": "ipython3",
   "version": "3.8.5"
  }
 },
 "nbformat": 4,
 "nbformat_minor": 4
}
