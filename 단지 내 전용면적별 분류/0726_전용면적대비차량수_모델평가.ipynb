{
 "cells": [
  {
   "cell_type": "markdown",
   "metadata": {},
   "source": [
    "### critial_feature \n",
    "- '임대보증금', '임대료', '단지내주차면수','전용면적별세대수', '면적_세대수_곱', '면적_세대수_곱_총합','면적_세대수_비율','임대건물구분_lb', '공급유형_lb', '자격유형_lb', 'ERROR1_lb' (+'공가수', '지역')"
   ]
  },
  {
   "cell_type": "code",
   "execution_count": 14,
   "metadata": {},
   "outputs": [],
   "source": [
    "import pandas as pd\n",
    "import warnings \n",
    "import numpy as np\n",
    "from matplotlib import rc, rcParams\n",
    "import matplotlib.pyplot as plt\n",
    "\n",
    "warnings.filterwarnings(action='ignore')\n",
    "rc('font',family='AppleGothic')\n",
    "rcParams['axes.unicode_minus']=False"
   ]
  },
  {
   "cell_type": "code",
   "execution_count": 2,
   "metadata": {},
   "outputs": [
    {
     "data": {
      "text/plain": [
       "((1420, 71), (541, 69))"
      ]
     },
     "execution_count": 2,
     "metadata": {},
     "output_type": "execute_result"
    }
   ],
   "source": [
    "path = './data_전용면적별/'\n",
    "\n",
    "train = pd.read_csv(path+'train_new.csv')\n",
    "test = pd.read_csv(path+'test_new.csv')\n",
    "\n",
    "train.shape, test.shape"
   ]
  },
  {
   "cell_type": "code",
   "execution_count": 3,
   "metadata": {},
   "outputs": [
    {
     "data": {
      "text/plain": [
       "array([[<AxesSubplot:title={'center':'임대보증금'}>,\n",
       "        <AxesSubplot:title={'center':'임대료'}>,\n",
       "        <AxesSubplot:title={'center':'단지내주차면수'}>],\n",
       "       [<AxesSubplot:title={'center':'전용면적별세대수'}>,\n",
       "        <AxesSubplot:title={'center':'면적_세대수_곱'}>,\n",
       "        <AxesSubplot:title={'center':'면적_세대수_곱_총합'}>],\n",
       "       [<AxesSubplot:title={'center':'면적_세대수_비율'}>, <AxesSubplot:>,\n",
       "        <AxesSubplot:>]], dtype=object)"
      ]
     },
     "execution_count": 3,
     "metadata": {},
     "output_type": "execute_result"
    },
    {
     "data": {
      "image/png": "[encoded data removed]",
      "text/plain": [
       "<Figure size 864x720 with 9 Axes>"
      ]
     },
     "metadata": {
      "needs_background": "light"
     },
     "output_type": "display_data"
    }
   ],
   "source": [
    "train[['임대보증금', '임대료', '단지내주차면수','전용면적별세대수',\n",
    "       '면적_세대수_곱','면적_세대수_곱_총합', '면적_세대수_비율']].hist(figsize=(12,10), bins=20)\n"
   ]
  },
  {
   "cell_type": "code",
   "execution_count": 4,
   "metadata": {},
   "outputs": [],
   "source": [
    "from sklearn.linear_model import LinearRegression\n",
    "from sklearn.neighbors import KNeighborsRegressor\n",
    "from sklearn.tree import DecisionTreeRegressor\n",
    "from sklearn.ensemble import RandomForestRegressor\n",
    "\n",
    "from sklearn.preprocessing import StandardScaler, MinMaxScaler\n",
    "from sklearn.model_selection import cross_val_score"
   ]
  },
  {
   "cell_type": "code",
   "execution_count": 5,
   "metadata": {},
   "outputs": [
    {
     "data": {
      "text/plain": [
       "Index(['단지코드', '총세대수', '임대건물구분', '지역', '공급유형', '전용면적', '공가수', '자격유형', '임대보증금',\n",
       "       '임대료', '지하철', '버스정류장', '단지내주차면수', 'ERROR1', '임대건물구분_lb', '상가', '아파트',\n",
       "       '지역_lb', '강원도', '경기도', '경상남도', '경상북도', '광주광역시', '대구광역시', '대전광역시',\n",
       "       '부산광역시', '서울특별시', '세종특별자치시', '울산광역시', '전라남도', '전라북도', '제주특별자치도', '충청남도',\n",
       "       '충청북도', '공급유형_lb', '공공분양', '공공임대(10년)', '공공임대(50년)', '공공임대(5년)',\n",
       "       '공공임대(분납)', '국민임대', '영구임대', '임대상가', '장기전세', '행복주택', '자격유형_lb', 'A', 'B',\n",
       "       'C', 'D', 'E', 'F', 'G', 'H', 'I', 'J', 'K', 'L', 'M', 'N', 'O',\n",
       "       'ERROR1_lb', '나머지', '분양상가', '분양아파트', '등록차량수', '전용면적별세대수', '면적_세대수_곱',\n",
       "       '면적_세대수_곱_총합', '면적_세대수_비율', '전용면적_비례_차량수'],\n",
       "      dtype='object')"
      ]
     },
     "execution_count": 5,
     "metadata": {},
     "output_type": "execute_result"
    }
   ],
   "source": [
    "train.columns"
   ]
  },
  {
   "cell_type": "code",
   "execution_count": 18,
   "metadata": {},
   "outputs": [
    {
     "name": "stdout",
     "output_type": "stream",
     "text": [
      "LinearRegression :  46.605790502251494\n",
      "KNeighborsRegressor :  44.912751065504274\n",
      "RandomForestRegressor :  42.36274245521948\n",
      "DecisionTreeRegressor :  57.064707055653344\n",
      "[46.605790502251494, 44.912751065504274, 42.36274245521948, 57.064707055653344]\n"
     ]
    }
   ],
   "source": [
    "sel = ['임대보증금', '임대료', '단지내주차면수','전용면적별세대수', '면적_세대수_곱', '면적_세대수_곱_총합','면적_세대수_비율']\n",
    "X = train[sel]\n",
    "y = train[['전용면적_비례_차량수']]\n",
    "\n",
    "# 피처스케일링\n",
    "scaler = StandardScaler()\n",
    "X_nor = scaler.fit_transform(X)\n",
    "\n",
    "# 모델 \n",
    "lr = LinearRegression()\n",
    "knn = KNeighborsRegressor()\n",
    "rf = RandomForestRegressor()\n",
    "dt = DecisionTreeRegressor()\n",
    "\n",
    "# 회귀는 교차검증\n",
    "lr_scores = cross_val_score(lr, X_nor, y,scoring='neg_mean_absolute_error', cv=5) \n",
    "knn_scores = cross_val_score(knn, X_nor, y,scoring='neg_mean_absolute_error', cv=5)\n",
    "rf_scores = cross_val_score(rf, X_nor, y,scoring='neg_mean_absolute_error', cv=5)\n",
    "dt_scores = cross_val_score(dt, X_nor, y,scoring='neg_mean_absolute_error', cv=5)\n",
    "\n",
    "lr_score = np.abs(lr_scores.mean())\n",
    "knn_score = np.abs(knn_scores.mean())\n",
    "rf_score = np.abs(rf_scores.mean())\n",
    "dt_score = np.abs(dt_scores.mean())\n",
    "\n",
    "print(\"LinearRegression : \", lr_score)\n",
    "print(\"KNeighborsRegressor : \", knn_score)\n",
    "print(\"RandomForestRegressor : \", rf_score)\n",
    "print(\"DecisionTreeRegressor : \", dt_score)\n",
    "\n",
    "score_std = [lr_score, knn_score, rf_score, dt_score ]\n",
    "print(score_std)"
   ]
  },
  {
   "cell_type": "code",
   "execution_count": 19,
   "metadata": {},
   "outputs": [
    {
     "name": "stdout",
     "output_type": "stream",
     "text": [
      "LinearRegression :  46.6057905022515\n",
      "KNeighborsRegressor :  44.71316423875281\n",
      "RandomForestRegressor :  42.25847730302621\n",
      "DecisionTreeRegressor :  56.27081562518365\n",
      "[46.6057905022515, 44.71316423875281, 42.25847730302621, 56.27081562518365]\n"
     ]
    }
   ],
   "source": [
    "sel = ['임대보증금', '임대료', '단지내주차면수','전용면적별세대수','면적_세대수_곱', '면적_세대수_곱_총합','면적_세대수_비율']\n",
    "\n",
    "X = train[sel]\n",
    "y = train[['전용면적_비례_차량수']]\n",
    "\n",
    "# 피처스케일링\n",
    "scaler = MinMaxScaler()\n",
    "X_nor = scaler.fit_transform(X)\n",
    "\n",
    "# 모델 \n",
    "lr = LinearRegression()\n",
    "knn = KNeighborsRegressor()\n",
    "rf = RandomForestRegressor()\n",
    "dt = DecisionTreeRegressor()\n",
    "\n",
    "# 회귀는 교차검증\n",
    "lr_scores = cross_val_score(lr, X_nor, y,scoring='neg_mean_absolute_error', cv=5) \n",
    "knn_scores = cross_val_score(knn, X_nor, y,scoring='neg_mean_absolute_error', cv=5)\n",
    "rf_scores = cross_val_score(rf, X_nor, y,scoring='neg_mean_absolute_error', cv=5)\n",
    "dt_scores = cross_val_score(dt, X_nor, y,scoring='neg_mean_absolute_error', cv=5)\n",
    "\n",
    "lr_score = np.abs(lr_scores.mean())\n",
    "knn_score = np.abs(knn_scores.mean())\n",
    "rf_score = np.abs(rf_scores.mean())\n",
    "dt_score = np.abs(dt_scores.mean())\n",
    "\n",
    "print(\"LinearRegression : \", lr_score)\n",
    "print(\"KNeighborsRegressor : \", knn_score)\n",
    "print(\"RandomForestRegressor : \", rf_score)\n",
    "print(\"DecisionTreeRegressor : \", dt_score)\n",
    "\n",
    "score_std = [lr_score, knn_score, rf_score, dt_score ]\n",
    "print(score_std)"
   ]
  },
  {
   "cell_type": "code",
   "execution_count": null,
   "metadata": {},
   "outputs": [],
   "source": []
  },
  {
   "cell_type": "code",
   "execution_count": null,
   "metadata": {},
   "outputs": [],
   "source": []
  },
  {
   "cell_type": "code",
   "execution_count": null,
   "metadata": {},
   "outputs": [],
   "source": []
  },
  {
   "cell_type": "code",
   "execution_count": null,
   "metadata": {},
   "outputs": [],
   "source": []
  },
  {
   "cell_type": "code",
   "execution_count": null,
   "metadata": {},
   "outputs": [],
   "source": []
  },
  {
   "cell_type": "code",
   "execution_count": null,
   "metadata": {},
   "outputs": [],
   "source": []
  },
  {
   "cell_type": "code",
   "execution_count": null,
   "metadata": {},
   "outputs": [],
   "source": []
  },
  {
   "cell_type": "code",
   "execution_count": 16,
   "metadata": {},
   "outputs": [
    {
     "name": "stdout",
     "output_type": "stream",
     "text": [
      "DescribeResult(nobs=541, minmax=(0.06003323692729058, 979.6020934611033), mean=147.01547613384022, variance=23385.142574689537, skewness=1.9931020158029944, kurtosis=5.657710079772514)\n"
     ]
    },
    {
     "data": {
      "text/plain": [
       "(array([163.,  76.,  93.,  70.,  39.,  27.,  19.,  16.,  14.,   7.,   2.,\n",
       "          4.,   1.,   1.,   2.,   3.,   0.,   1.,   2.,   1.]),\n",
       " array([6.00332369e-02, 4.90371362e+01, 9.80142393e+01, 1.46991342e+02,\n",
       "        1.95968445e+02, 2.44945548e+02, 2.93922651e+02, 3.42899754e+02,\n",
       "        3.91876857e+02, 4.40853960e+02, 4.89831063e+02, 5.38808166e+02,\n",
       "        5.87785269e+02, 6.36762372e+02, 6.85739475e+02, 7.34716578e+02,\n",
       "        7.83693681e+02, 8.32670784e+02, 8.81647887e+02, 9.30624990e+02,\n",
       "        9.79602093e+02]),\n",
       " <BarContainer object of 20 artists>)"
      ]
     },
     "execution_count": 16,
     "metadata": {},
     "output_type": "execute_result"
    },
    {
     "data": {
      "image/png": "[encoded data removed]",
      "text/plain": [
       "<Figure size 432x288 with 1 Axes>"
      ]
     },
     "metadata": {
      "needs_background": "light"
     },
     "output_type": "display_data"
    }
   ],
   "source": [
    "from scipy import stats\n",
    "\n",
    "X_test = test[sel]\n",
    "X_test_nor = scaler.transform(X_test)\n",
    "\n",
    "rf.fit(X_nor, y)\n",
    "pred = rf.predict(X_test_nor)\n",
    "print(stats.describe(pred))\n",
    "plt.hist(pred, bins=20)"
   ]
  },
  {
   "cell_type": "code",
   "execution_count": null,
   "metadata": {},
   "outputs": [],
   "source": []
  }
 ],
 "metadata": {
  "kernelspec": {
   "display_name": "Python 3",
   "language": "python",
   "name": "python3"
  },
  "language_info": {
   "codemirror_mode": {
    "name": "ipython",
    "version": 3
   },
   "file_extension": ".py",
   "mimetype": "text/x-python",
   "name": "python",
   "nbconvert_exporter": "python",
   "pygments_lexer": "ipython3",
   "version": "3.8.5"
  }
 },
 "nbformat": 4,
 "nbformat_minor": 4
}
