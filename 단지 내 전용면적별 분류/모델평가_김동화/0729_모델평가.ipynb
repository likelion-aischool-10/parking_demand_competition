{
 "cells": [
  {
   "cell_type": "code",
   "execution_count": 1,
   "metadata": {},
   "outputs": [],
   "source": [
    "import os\n",
    "import pandas as pd\n",
    "import warnings \n",
    "import numpy as np\n",
    "from matplotlib import rc, rcParams\n",
    "import matplotlib.pyplot as plt\n",
    "\n",
    "warnings.filterwarnings(action='ignore')\n",
    "rc('font',family='AppleGothic')\n",
    "rcParams['axes.unicode_minus']=False"
   ]
  },
  {
   "cell_type": "code",
   "execution_count": 5,
   "metadata": {},
   "outputs": [
    {
     "data": {
      "text/plain": [
       "((1437, 91), (518, 89))"
      ]
     },
     "execution_count": 5,
     "metadata": {},
     "output_type": "execute_result"
    }
   ],
   "source": [
    "path = '../data/'\n",
    "\n",
    "train = pd.read_csv(path+'5_train.csv')\n",
    "test = pd.read_csv(path+'5_test.csv')\n",
    "\n",
    "train.shape, test.shape"
   ]
  },
  {
   "cell_type": "code",
   "execution_count": 6,
   "metadata": {},
   "outputs": [
    {
     "data": {
      "text/plain": [
       "Index(['단지코드', '총세대수', '임대건물구분', '지역', '공급유형', '전용면적', '공가수', '자격유형', '버스정류장',\n",
       "       '단지내주차면수', 'ERROR1', '임대건물구분_lb', '상가', '아파트', '지역_lb', '강원도', '경기도',\n",
       "       '경상남도', '경상북도', '광주광역시', '대구광역시', '대전광역시', '부산광역시', '서울특별시', '세종특별자치시',\n",
       "       '울산광역시', '전라남도', '전라북도', '제주특별자치도', '충청남도', '충청북도', '공급유형_lb', '공공분양',\n",
       "       '공공임대(10년)', '공공임대(50년)', '공공임대(5년)', '공공임대(분납)', '국민임대', '영구임대',\n",
       "       '임대상가', '장기전세', '행복주택', '자격유형_lb', 'A', 'B', 'C', 'D', 'E', 'F', 'G',\n",
       "       'H', 'I', 'J', 'K', 'L', 'M', 'N', 'O', 'ERROR1_lb', '나머지', '분양상가',\n",
       "       '분양아파트', '총세대수_lb', '총세대수_lb_A1', '총세대수_lb_B1', '총세대수_lb_C1',\n",
       "       '총세대수_lb_D1', '총세대수_lb_E1', '전용면적_5', '전용면적_15', '전용면적_20', '전용면적_25',\n",
       "       '전용면적_30', '전용면적_35', '전용면적_40', '전용면적_45', '전용면적_50', '전용면적_55',\n",
       "       '전용면적_60', '전용면적_65', '전용면적_70', '전용면적_75', '전용면적_80', '전용면적_100',\n",
       "       '지역_cat', '등록차량수', '전용면적별세대수', '면적_세대수_곱', '면적_세대수_곱_총합', '면적_세대수_비율',\n",
       "       '전용면적_비례_차량수'],\n",
       "      dtype='object')"
      ]
     },
     "execution_count": 6,
     "metadata": {},
     "output_type": "execute_result"
    }
   ],
   "source": [
    "train.columns"
   ]
  },
  {
   "cell_type": "code",
   "execution_count": 14,
   "metadata": {},
   "outputs": [],
   "source": [
    "from sklearn.ensemble import RandomForestRegressor\n",
    "from sklearn.preprocessing import PolynomialFeatures, MinMaxScaler, StandardScaler\n",
    "from sklearn.linear_model import Lasso, Ridge, LinearRegression\n",
    "from sklearn.model_selection import cross_val_score"
   ]
  },
  {
   "cell_type": "code",
   "execution_count": 21,
   "metadata": {},
   "outputs": [
    {
     "name": "stdout",
     "output_type": "stream",
     "text": [
      "RandomForestRegressor :  38.42388146996767\n",
      "LinearRegression : 39.23168482944034\n",
      "Lasso (alpha=defalt) :  42.2018215302114\n",
      "Ridge (alpha=defalt) :  41.507053807807516\n"
     ]
    }
   ],
   "source": [
    "sel = ['단지내주차면수', '전용면적별세대수', '면적_세대수_비율', '면적_세대수_곱_총합']\n",
    "X = train[sel]\n",
    "y = train[['전용면적_비례_차량수']]\n",
    "\n",
    "# 피처스케일링\n",
    "scaler = MinMaxScaler() # MinMaxScaler StandardScaler \n",
    "X_nor = scaler.fit_transform(X)\n",
    "X_poly = PolynomialFeatures(degree=2, include_bias=False).fit_transform(X_nor)  \n",
    "\n",
    "# X_all = np.concatenate((X_poly, X_nor[:,6:]), axis=1)\n",
    "\n",
    "# 모델 \n",
    "lr = LinearRegression()\n",
    "rf = RandomForestRegressor()\n",
    "lasso = Lasso()\n",
    "ridge = Ridge()\n",
    "\n",
    "# 회귀는 교차검증\n",
    "rf_scores = cross_val_score(rf, X_poly, y,scoring='neg_mean_absolute_error', cv=5)\n",
    "lr_scores = cross_val_score(lr, X_poly, y,scoring='neg_mean_absolute_error', cv=5)\n",
    "lasso_scores = cross_val_score(lasso, X_poly, y,scoring='neg_mean_absolute_error', cv=5)\n",
    "ridge_scores = cross_val_score(ridge, X_poly, y,scoring='neg_mean_absolute_error', cv=5)\n",
    "\n",
    "\n",
    "rf_score = np.abs(rf_scores.mean())\n",
    "lr_score = np.abs(lr_scores.mean())\n",
    "lasso_score = np.abs(lasso_scores.mean())\n",
    "ridge_score = np.abs(ridge_scores.mean())\n",
    "\n",
    "\n",
    "print(\"RandomForestRegressor : \", rf_score)\n",
    "print(\"LinearRegression :\", lr_score)\n",
    "print(\"Lasso (alpha=defalt) : \", lasso_score)\n",
    "print(\"Ridge (alpha=defalt) : \", ridge_score)\n"
   ]
  },
  {
   "cell_type": "code",
   "execution_count": 22,
   "metadata": {},
   "outputs": [
    {
     "name": "stdout",
     "output_type": "stream",
     "text": [
      "RandomForestRegressor :  38.43752415714088\n",
      "LinearRegression : 39.04197667137092\n",
      "Lasso (alpha=defalt) :  42.20213487950447\n",
      "Ridge (alpha=defalt) :  41.31244823363296\n"
     ]
    }
   ],
   "source": [
    "sel = ['단지내주차면수', '전용면적별세대수', '면적_세대수_비율', '면적_세대수_곱_총합', \n",
    "      '상가','아파트']\n",
    "X = train[sel]\n",
    "y = train[['전용면적_비례_차량수']]\n",
    "\n",
    "# 피처스케일링\n",
    "scaler = MinMaxScaler() # MinMaxScaler StandardScaler \n",
    "X_nor = scaler.fit_transform(X)\n",
    "tmp_X_nor = X_nor[:,:4]\n",
    "X_poly = PolynomialFeatures(degree=2, include_bias=False).fit_transform(tmp_X_nor)  \n",
    "\n",
    "X_all = np.concatenate((X_poly, X_nor[:,4:]), axis=1)\n",
    "\n",
    "# 모델 \n",
    "lr = LinearRegression()\n",
    "rf = RandomForestRegressor()\n",
    "lasso = Lasso()\n",
    "ridge = Ridge()\n",
    "\n",
    "# 회귀는 교차검증\n",
    "rf_scores = cross_val_score(rf, X_all, y,scoring='neg_mean_absolute_error', cv=5)\n",
    "lr_scores = cross_val_score(lr, X_all, y,scoring='neg_mean_absolute_error', cv=5)\n",
    "lasso_scores = cross_val_score(lasso, X_all, y,scoring='neg_mean_absolute_error', cv=5)\n",
    "ridge_scores = cross_val_score(ridge, X_all, y,scoring='neg_mean_absolute_error', cv=5)\n",
    "\n",
    "\n",
    "rf_score = np.abs(rf_scores.mean())\n",
    "lr_score = np.abs(lr_scores.mean())\n",
    "lasso_score = np.abs(lasso_scores.mean())\n",
    "ridge_score = np.abs(ridge_scores.mean())\n",
    "\n",
    "\n",
    "print(\"RandomForestRegressor : \", rf_score)\n",
    "print(\"LinearRegression :\", lr_score)\n",
    "print(\"Lasso (alpha=defalt) : \", lasso_score)\n",
    "print(\"Ridge (alpha=defalt) : \", ridge_score)\n"
   ]
  },
  {
   "cell_type": "code",
   "execution_count": 23,
   "metadata": {},
   "outputs": [
    {
     "name": "stdout",
     "output_type": "stream",
     "text": [
      "RandomForestRegressor :  38.32662095070479\n",
      "LinearRegression : 38.893508699604425\n",
      "Lasso (alpha=defalt) :  42.20213487950447\n",
      "Ridge (alpha=defalt) :  41.2534070621646\n"
     ]
    }
   ],
   "source": [
    "sel = ['단지내주차면수', '전용면적별세대수', '면적_세대수_비율', '면적_세대수_곱_총합', \n",
    "      '상가','아파트',\n",
    "      '공공분양']\n",
    "X = train[sel]\n",
    "y = train[['전용면적_비례_차량수']]\n",
    "\n",
    "# 피처스케일링\n",
    "scaler = MinMaxScaler() # MinMaxScaler StandardScaler \n",
    "X_nor = scaler.fit_transform(X)\n",
    "tmp_X_nor = X_nor[:,:4]\n",
    "X_poly = PolynomialFeatures(degree=2, include_bias=False).fit_transform(tmp_X_nor)  \n",
    "\n",
    "X_all = np.concatenate((X_poly, X_nor[:,4:]), axis=1)\n",
    "\n",
    "# 모델 \n",
    "lr = LinearRegression()\n",
    "rf = RandomForestRegressor()\n",
    "lasso = Lasso()\n",
    "ridge = Ridge()\n",
    "\n",
    "# 회귀는 교차검증\n",
    "rf_scores = cross_val_score(rf, X_all, y,scoring='neg_mean_absolute_error', cv=5)\n",
    "lr_scores = cross_val_score(lr, X_all, y,scoring='neg_mean_absolute_error', cv=5)\n",
    "lasso_scores = cross_val_score(lasso, X_all, y,scoring='neg_mean_absolute_error', cv=5)\n",
    "ridge_scores = cross_val_score(ridge, X_all, y,scoring='neg_mean_absolute_error', cv=5)\n",
    "\n",
    "\n",
    "rf_score = np.abs(rf_scores.mean())\n",
    "lr_score = np.abs(lr_scores.mean())\n",
    "lasso_score = np.abs(lasso_scores.mean())\n",
    "ridge_score = np.abs(ridge_scores.mean())\n",
    "\n",
    "\n",
    "print(\"RandomForestRegressor : \", rf_score)\n",
    "print(\"LinearRegression :\", lr_score)\n",
    "print(\"Lasso (alpha=defalt) : \", lasso_score)\n",
    "print(\"Ridge (alpha=defalt) : \", ridge_score)\n"
   ]
  },
  {
   "cell_type": "code",
   "execution_count": 34,
   "metadata": {},
   "outputs": [
    {
     "data": {
      "text/plain": [
       "(1437,)"
      ]
     },
     "execution_count": 34,
     "metadata": {},
     "output_type": "execute_result"
    }
   ],
   "source": [
    "train['총세대수_lb'].shape"
   ]
  },
  {
   "cell_type": "code",
   "execution_count": 37,
   "metadata": {},
   "outputs": [
    {
     "data": {
      "text/plain": [
       "dtype('int64')"
      ]
     },
     "execution_count": 37,
     "metadata": {},
     "output_type": "execute_result"
    }
   ],
   "source": [
    "# train['총세대수_lb'].unique()\n",
    "\n",
    "from sklearn.preprocessing import LabelEncoder\n",
    "\n",
    "encoder = LabelEncoder()\n",
    "lbs = encoder.fit_transform(train['총세대수_lb'])\n",
    "train['총세대수lb'] = lbs\n",
    "train['총세대수lb'].dtype"
   ]
  },
  {
   "cell_type": "code",
   "execution_count": 38,
   "metadata": {},
   "outputs": [
    {
     "name": "stdout",
     "output_type": "stream",
     "text": [
      "RandomForestRegressor :  38.44793215328566\n",
      "LinearRegression : 39.01854796859032\n",
      "Lasso (alpha=defalt) :  42.20190381817118\n",
      "Ridge (alpha=defalt) :  41.385639428783925\n"
     ]
    }
   ],
   "source": [
    "sel = ['단지내주차면수', '전용면적별세대수', '면적_세대수_비율', '면적_세대수_곱_총합', \n",
    "      '상가','아파트',\n",
    "      '공공분양','총세대수lb']\n",
    "\n",
    "X = train[sel]\n",
    "y = train[['전용면적_비례_차량수']]\n",
    "\n",
    "# 피처스케일링\n",
    "scaler = MinMaxScaler() # MinMaxScaler StandardScaler \n",
    "X_nor = scaler.fit_transform(X)\n",
    "tmp_X_nor = X_nor[:,:4]\n",
    "X_poly = PolynomialFeatures(degree=2, include_bias=False).fit_transform(tmp_X_nor)  \n",
    "\n",
    "X_all = np.concatenate((X_poly, X_nor[:,4:]), axis=1)\n",
    "\n",
    "# 모델 \n",
    "lr = LinearRegression()\n",
    "rf = RandomForestRegressor()\n",
    "lasso = Lasso()\n",
    "ridge = Ridge()\n",
    "\n",
    "# 회귀는 교차검증\n",
    "rf_scores = cross_val_score(rf, X_all, y,scoring='neg_mean_absolute_error', cv=5)\n",
    "lr_scores = cross_val_score(lr, X_all, y,scoring='neg_mean_absolute_error', cv=5)\n",
    "lasso_scores = cross_val_score(lasso, X_all, y,scoring='neg_mean_absolute_error', cv=5)\n",
    "ridge_scores = cross_val_score(ridge, X_all, y,scoring='neg_mean_absolute_error', cv=5)\n",
    "\n",
    "\n",
    "rf_score = np.abs(rf_scores.mean())\n",
    "lr_score = np.abs(lr_scores.mean())\n",
    "lasso_score = np.abs(lasso_scores.mean())\n",
    "ridge_score = np.abs(ridge_scores.mean())\n",
    "\n",
    "\n",
    "print(\"RandomForestRegressor : \", rf_score)\n",
    "print(\"LinearRegression :\", lr_score)\n",
    "print(\"Lasso (alpha=defalt) : \", lasso_score)\n",
    "print(\"Ridge (alpha=defalt) : \", ridge_score)\n"
   ]
  },
  {
   "cell_type": "code",
   "execution_count": 39,
   "metadata": {},
   "outputs": [
    {
     "name": "stdout",
     "output_type": "stream",
     "text": [
      "RandomForestRegressor :  38.393839834869894\n",
      "LinearRegression : 5010119289.548132\n",
      "Lasso (alpha=defalt) :  42.142698275384475\n",
      "Ridge (alpha=defalt) :  41.90796763749767\n"
     ]
    }
   ],
   "source": [
    "sel = ['단지내주차면수', '전용면적별세대수', '면적_세대수_비율', '면적_세대수_곱_총합', \n",
    "      '상가','아파트',\n",
    "      '공공분양', '총세대수_lb_A1', '총세대수_lb_B1', '총세대수_lb_C1',\n",
    "       '총세대수_lb_D1', '총세대수_lb_E1']\n",
    "\n",
    "X = train[sel]\n",
    "y = train[['전용면적_비례_차량수']]\n",
    "\n",
    "# 피처스케일링\n",
    "scaler = MinMaxScaler() # MinMaxScaler StandardScaler \n",
    "X_nor = scaler.fit_transform(X)\n",
    "tmp_X_nor = X_nor[:,:4]\n",
    "X_poly = PolynomialFeatures(degree=2, include_bias=False).fit_transform(tmp_X_nor)  \n",
    "\n",
    "X_all = np.concatenate((X_poly, X_nor[:,4:]), axis=1)\n",
    "\n",
    "# 모델 \n",
    "lr = LinearRegression()\n",
    "rf = RandomForestRegressor()\n",
    "lasso = Lasso()\n",
    "ridge = Ridge()\n",
    "\n",
    "# 회귀는 교차검증\n",
    "rf_scores = cross_val_score(rf, X_all, y,scoring='neg_mean_absolute_error', cv=5)\n",
    "lr_scores = cross_val_score(lr, X_all, y,scoring='neg_mean_absolute_error', cv=5)\n",
    "lasso_scores = cross_val_score(lasso, X_all, y,scoring='neg_mean_absolute_error', cv=5)\n",
    "ridge_scores = cross_val_score(ridge, X_all, y,scoring='neg_mean_absolute_error', cv=5)\n",
    "\n",
    "\n",
    "rf_score = np.abs(rf_scores.mean())\n",
    "lr_score = np.abs(lr_scores.mean())\n",
    "lasso_score = np.abs(lasso_scores.mean())\n",
    "ridge_score = np.abs(ridge_scores.mean())\n",
    "\n",
    "\n",
    "print(\"RandomForestRegressor : \", rf_score)\n",
    "print(\"LinearRegression :\", lr_score)\n",
    "print(\"Lasso (alpha=defalt) : \", lasso_score)\n",
    "print(\"Ridge (alpha=defalt) : \", ridge_score)\n"
   ]
  },
  {
   "cell_type": "code",
   "execution_count": null,
   "metadata": {},
   "outputs": [],
   "source": []
  },
  {
   "cell_type": "code",
   "execution_count": null,
   "metadata": {},
   "outputs": [],
   "source": []
  }
 ],
 "metadata": {
  "kernelspec": {
   "display_name": "Python 3",
   "language": "python",
   "name": "python3"
  },
  "language_info": {
   "codemirror_mode": {
    "name": "ipython",
    "version": 3
   },
   "file_extension": ".py",
   "mimetype": "text/x-python",
   "name": "python",
   "nbconvert_exporter": "python",
   "pygments_lexer": "ipython3",
   "version": "3.8.5"
  }
 },
 "nbformat": 4,
 "nbformat_minor": 4
}
