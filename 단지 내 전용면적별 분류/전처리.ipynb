{
 "cells": [
  {
   "cell_type": "code",
   "execution_count": 1,
   "metadata": {},
   "outputs": [],
   "source": [
    "import pandas as pd\n",
    "import os\n",
    "import seaborn as sns\n",
    "import matplotlib.pyplot as plt\n",
    "from matplotlib import rc, rcParams\n",
    "import warnings\n",
    "\n",
    "warnings.filterwarnings(action='ignore')\n",
    "rc('font',family='AppleGothic')\n",
    "rcParams['axes.unicode_minus'] = False"
   ]
  },
  {
   "cell_type": "code",
   "execution_count": 3,
   "metadata": {},
   "outputs": [
    {
     "data": {
      "text/plain": [
       "((2952, 62), (2896, 62), (1008, 61))"
      ]
     },
     "execution_count": 3,
     "metadata": {},
     "output_type": "execute_result"
    }
   ],
   "source": [
    "path = '../data/'\n",
    "\n",
    "train = pd.read_csv(path+\"train_preprocessed.csv\")\n",
    "train_errx = pd.read_csv(path+\"train_errx_preprocessed.csv\")\n",
    "test = pd.read_csv(path+\"test_preprocessed.csv\")\n",
    "sub = pd.read_csv(path + 'sample_submission.csv')\n",
    "\n",
    "train.shape, train_errx.shape, test.shape"
   ]
  },
  {
   "cell_type": "markdown",
   "metadata": {},
   "source": [
    "## 같은 단지코드 내 전용면적이 같음에도 다른 행으로 되어있는 데이터 병합하기."
   ]
  },
  {
   "cell_type": "code",
   "execution_count": 76,
   "metadata": {},
   "outputs": [
    {
     "data": {
      "text/html": [
       "<div>\n",
       "<style scoped>\n",
       "    .dataframe tbody tr th:only-of-type {\n",
       "        vertical-align: middle;\n",
       "    }\n",
       "\n",
       "    .dataframe tbody tr th {\n",
       "        vertical-align: top;\n",
       "    }\n",
       "\n",
       "    .dataframe thead th {\n",
       "        text-align: right;\n",
       "    }\n",
       "</style>\n",
       "<table border=\"1\" class=\"dataframe\">\n",
       "  <thead>\n",
       "    <tr style=\"text-align: right;\">\n",
       "      <th></th>\n",
       "      <th>단지코드</th>\n",
       "      <th>전용면적</th>\n",
       "      <th>등록차량수</th>\n",
       "      <th>전용면적별세대수</th>\n",
       "      <th>세대수비례등록차량수</th>\n",
       "    </tr>\n",
       "  </thead>\n",
       "  <tbody>\n",
       "    <tr>\n",
       "      <th>0</th>\n",
       "      <td>C1000</td>\n",
       "      <td>39.57</td>\n",
       "      <td>481.0</td>\n",
       "      <td>344</td>\n",
       "      <td>292.339223</td>\n",
       "    </tr>\n",
       "    <tr>\n",
       "      <th>1</th>\n",
       "      <td>C1000</td>\n",
       "      <td>39.93</td>\n",
       "      <td>481.0</td>\n",
       "      <td>75</td>\n",
       "      <td>63.736749</td>\n",
       "    </tr>\n",
       "    <tr>\n",
       "      <th>2</th>\n",
       "      <td>C1000</td>\n",
       "      <td>46.70</td>\n",
       "      <td>481.0</td>\n",
       "      <td>36</td>\n",
       "      <td>30.593640</td>\n",
       "    </tr>\n",
       "    <tr>\n",
       "      <th>3</th>\n",
       "      <td>C1000</td>\n",
       "      <td>46.90</td>\n",
       "      <td>481.0</td>\n",
       "      <td>36</td>\n",
       "      <td>30.593640</td>\n",
       "    </tr>\n",
       "    <tr>\n",
       "      <th>4</th>\n",
       "      <td>C1000</td>\n",
       "      <td>51.93</td>\n",
       "      <td>481.0</td>\n",
       "      <td>75</td>\n",
       "      <td>63.736749</td>\n",
       "    </tr>\n",
       "    <tr>\n",
       "      <th>5</th>\n",
       "      <td>C1013</td>\n",
       "      <td>39.65</td>\n",
       "      <td>1665.0</td>\n",
       "      <td>291</td>\n",
       "      <td>370.424312</td>\n",
       "    </tr>\n",
       "    <tr>\n",
       "      <th>6</th>\n",
       "      <td>C1013</td>\n",
       "      <td>46.22</td>\n",
       "      <td>1665.0</td>\n",
       "      <td>580</td>\n",
       "      <td>738.302752</td>\n",
       "    </tr>\n",
       "    <tr>\n",
       "      <th>7</th>\n",
       "      <td>C1013</td>\n",
       "      <td>46.76</td>\n",
       "      <td>1665.0</td>\n",
       "      <td>177</td>\n",
       "      <td>225.309633</td>\n",
       "    </tr>\n",
       "    <tr>\n",
       "      <th>8</th>\n",
       "      <td>C1013</td>\n",
       "      <td>51.86</td>\n",
       "      <td>1665.0</td>\n",
       "      <td>260</td>\n",
       "      <td>330.963303</td>\n",
       "    </tr>\n",
       "    <tr>\n",
       "      <th>9</th>\n",
       "      <td>C1014</td>\n",
       "      <td>33.35</td>\n",
       "      <td>708.0</td>\n",
       "      <td>516</td>\n",
       "      <td>366.795181</td>\n",
       "    </tr>\n",
       "  </tbody>\n",
       "</table>\n",
       "</div>"
      ],
      "text/plain": [
       "    단지코드   전용면적   등록차량수  전용면적별세대수  세대수비례등록차량수\n",
       "0  C1000  39.57   481.0       344  292.339223\n",
       "1  C1000  39.93   481.0        75   63.736749\n",
       "2  C1000  46.70   481.0        36   30.593640\n",
       "3  C1000  46.90   481.0        36   30.593640\n",
       "4  C1000  51.93   481.0        75   63.736749\n",
       "5  C1013  39.65  1665.0       291  370.424312\n",
       "6  C1013  46.22  1665.0       580  738.302752\n",
       "7  C1013  46.76  1665.0       177  225.309633\n",
       "8  C1013  51.86  1665.0       260  330.963303\n",
       "9  C1014  33.35   708.0       516  366.795181"
      ]
     },
     "execution_count": 76,
     "metadata": {},
     "output_type": "execute_result"
    }
   ],
   "source": [
    "columns = list(train.columns)\n",
    "columns.remove('전용면적별세대수')\n",
    "new = train.groupby(columns, as_index=False).agg({'전용면적별세대수': sum})\n",
    "new['세대수비례등록차량수'] = new.apply(lambda row: row['전용면적별세대수'] / row['총세대수'] * row['등록차량수'], axis=1)\n",
    "new[['단지코드', '전용면적', '등록차량수', '전용면적별세대수', '세대수비례등록차량수']].head(10)"
   ]
  },
  {
   "cell_type": "code",
   "execution_count": null,
   "metadata": {},
   "outputs": [],
   "source": []
  }
 ],
 "metadata": {
  "kernelspec": {
   "display_name": "Python 3",
   "language": "python",
   "name": "python3"
  },
  "language_info": {
   "codemirror_mode": {
    "name": "ipython",
    "version": 3
   },
   "file_extension": ".py",
   "mimetype": "text/x-python",
   "name": "python",
   "nbconvert_exporter": "python",
   "pygments_lexer": "ipython3",
   "version": "3.8.5"
  }
 },
 "nbformat": 4,
 "nbformat_minor": 4
}
